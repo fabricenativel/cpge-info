{
 "cells": [
  {
   "cell_type": "markdown",
   "metadata": {},
   "source": [
    "#  <font color=\"darkred\"> &#10070; Algorithme des k-moyennes</font>\n"
   ]
  },
  {
   "cell_type": "markdown",
   "metadata": {},
   "source": [
    "Le but du notebook est de mettre en oeuvre en Python l'algorithme des k plus proches voisins afin de classer des vins suivant leur cépage.\n"
   ]
  },
  {
   "cell_type": "markdown",
   "metadata": {},
   "source": [
    "## <font color=\"darkblue\"> &diams; Le jeu de données</font>"
   ]
  },
  {
   "cell_type": "markdown",
   "metadata": {},
   "source": [
    "On utilise dans ce notebook un jeu de données disponible sur le site de l'[UCI](https://archive.ics.uci.edu/dataset/109/wine). Ce jeu de données contient des données sur 178 variétés de vin tous produits en Italie mais issus de **trois** cépages différents. \n",
    "Sur chaque ligne du fichier de données, on trouvera :\n",
    "* en première position le cépage d'où est issu le vin sous la forme d'un entier (de 1 à 3). On pourra donc tester la classification fourni par l'algorithme des k-moyennes.\n",
    "* puis 13 autres valeurs correspondants à des valeurs d'analyse chimique du vin. La signification précise de ces données n'est pas utile pour la mise en oeuvre de l'algorithme mais on peut en consulter le [détail](https://archive.ics.uci.edu/dataset/109/wine)\n",
    "\n",
    "Si vous utiliser ce notebook via Capytale, le jeu de données est déjà intégré. Dans le cas contraire vous devez le [télécharger](https://fabricenativel.github.io/cpge-info/itc/Notebook/wine.csv) et le sauvegarder *dans le même répertoire* que ce Notebook afin d'y avoir accès."
   ]
  },
  {
   "cell_type": "markdown",
   "metadata": {},
   "source": [
    "## <font color=\"darkblue\"> &diams; Lecture des données</font>"
   ]
  },
  {
   "cell_type": "markdown",
   "metadata": {},
   "source": [
    "## <font color=green> &#9998; Exercices </font>\n",
    "\n",
    "1. <font color=\"green\"> Ecrire un programme Python qui lit le fichier <code>wine.csv</code> et crée une liste `donnees_vins` contenant pour chaque iris le cépage (à l'indice 0) puis les caractéristiques chimiques.</font>"
   ]
  },
  {
   "cell_type": "markdown",
   "metadata": {},
   "source": [
    "On rappelle qu'il faut suivre les étapes suivantes :\n",
    "* ouvrir le fichier en donnant son nom (`wine.csv`) cette étape fournit un *descripteur de fichier* sur lequel s'appliqueront les fonctions suivantes\n",
    "* lire le contenu du fichier et utiliser `split` afin d'obtenir sur chaque ligne les données d'un iris\n",
    "* fermer le fichier"
   ]
  },
  {
   "cell_type": "code",
   "execution_count": 1,
   "metadata": {},
   "outputs": [],
   "source": [
    "# Votre programme ici\n",
    "reader = open(\"wine.csv\")\n",
    "donnees_vins = reader.read().strip().split('\\n')\n",
    "reader.close()"
   ]
  },
  {
   "cell_type": "markdown",
   "metadata": {},
   "source": [
    "A la fin de cette étape  `donnees_vins[0]` devrait contenir: \n",
    "\n",
    "`1,14.23,1.71,2.43,15.6,127,2.8,3.06,.28,2.29,5.64,1.04,3.92,1065`. \n",
    "\n",
    "Comme vous pouvez le constater on doit donc effectuer de nouveau un `split` cette fois avec le caractère `,` de façon à récupérer chacun des champs de données (on rappelle que la *première donnée* est le cépage).\n",
    "\n",
    "Remarquons aussi que *toutes les données* sont numériques, on peut donc directement les convertir en `float` au lieu de les conserver sous forme de chaine de caractère."
   ]
  },
  {
   "cell_type": "code",
   "execution_count": 3,
   "metadata": {},
   "outputs": [
    {
     "data": {
      "text/plain": [
       "'1,14.23,1.71,2.43,15.6,127,2.8,3.06,.28,2.29,5.64,1.04,3.92,1065'"
      ]
     },
     "execution_count": 3,
     "metadata": {},
     "output_type": "execute_result"
    }
   ],
   "source": [
    "donnees_vins[0]"
   ]
  },
  {
   "cell_type": "markdown",
   "metadata": {},
   "source": [
    "## <font color=green> &#9998; Exercices </font>\n",
    "\n",
    "2. <font color=\"green\"> Ecrire un programme Python qui crée la liste <code>vins</code> à partir de <code>donnees_vin</code> en effectuant un `split` sur chaque élément de cette liste et en convertissant chauqe élément en flottant.</font>"
   ]
  },
  {
   "cell_type": "code",
   "execution_count": 2,
   "metadata": {},
   "outputs": [],
   "source": [
    "# Votre programme ici\n",
    "vins = [[float(x) for x in d.split(',')] for d in donnees_vins]"
   ]
  },
  {
   "cell_type": "markdown",
   "metadata": {},
   "source": [
    "A la fin de cette étape, `vins[0]` devrait contenir la liste `[1,14.23,1.71,2.43,15.6,127,2.8,3.06,.28,2.29,5.64,1.04,3.92,1065]`. (Remarquer l'absence de  ̀`\"` puisque les données sont des flottants."
   ]
  },
  {
   "cell_type": "code",
   "execution_count": 7,
   "metadata": {},
   "outputs": [
    {
     "data": {
      "text/plain": [
       "[1.0,\n",
       " 13.87,\n",
       " 1.9,\n",
       " 2.8,\n",
       " 19.4,\n",
       " 107.0,\n",
       " 2.95,\n",
       " 2.97,\n",
       " 0.37,\n",
       " 1.76,\n",
       " 4.5,\n",
       " 1.25,\n",
       " 3.4,\n",
       " 915.0]"
      ]
     },
     "execution_count": 7,
     "metadata": {},
     "output_type": "execute_result"
    }
   ],
   "source": [
    "vins[28]"
   ]
  },
  {
   "cell_type": "markdown",
   "metadata": {},
   "source": [
    "## <font color=\"darkblue\"> &diams; Distance entre deux vins</font>"
   ]
  },
  {
   "cell_type": "markdown",
   "metadata": {},
   "source": [
    "On prendra comme distance entre deux vins le carré de la distance euclidienne dans $\\mathbb{R}^{13}$. \n",
    "\n",
    "**Attention**, on ne doit pas tenir compte de la première coordonnées (c'est le cépage) et utiliser uniquement les 13 autres. Par conséquent cette fonction prend en argument deux listes de 14 éléments mais renvoie le carré de la distance euclidienne sur les coordonnées d'indice 1 à 13.\n"
   ]
  },
  {
   "cell_type": "code",
   "execution_count": 3,
   "metadata": {},
   "outputs": [],
   "source": [
    "# Votre fonction distance ici\n",
    "def distance(vin1,vin2):\n",
    "    s = 0\n",
    "    for i in range(1,len(vin1)):\n",
    "        s += (vin1[i]-vin2[i])**2\n",
    "    return s"
   ]
  },
  {
   "cell_type": "markdown",
   "metadata": {},
   "source": [
    "Tester votre fonction `distance` et vérifier que la distance entre `iris[28]` et `iris[42]` vaut bien environ $4.56$."
   ]
  },
  {
   "cell_type": "code",
   "execution_count": 4,
   "metadata": {},
   "outputs": [
    {
     "data": {
      "text/plain": [
       "32456.9134"
      ]
     },
     "execution_count": 4,
     "metadata": {},
     "output_type": "execute_result"
    }
   ],
   "source": [
    "# Votre test ici\n",
    "distance(vins[28],vins[42])"
   ]
  },
  {
   "cell_type": "code",
   "execution_count": 8,
   "metadata": {},
   "outputs": [
    {
     "data": {
      "text/plain": [
       "[1.0,\n",
       " 13.88,\n",
       " 1.89,\n",
       " 2.59,\n",
       " 15.0,\n",
       " 101.0,\n",
       " 3.25,\n",
       " 3.56,\n",
       " 0.17,\n",
       " 1.7,\n",
       " 5.43,\n",
       " 0.88,\n",
       " 3.56,\n",
       " 1095.0]"
      ]
     },
     "execution_count": 8,
     "metadata": {},
     "output_type": "execute_result"
    }
   ],
   "source": [
    "vins[42]"
   ]
  },
  {
   "cell_type": "markdown",
   "metadata": {},
   "source": [
    "## <font color=green> &#9998; Exercices </font>\n",
    "\n",
    "3. <font color=\"green\"> Ecrire une fonction <code>distance</code> qui prend en argument deux listes représentant des iris (voir exercice 6) et renvoie la distance entre ces deux iris telle que définie ci-dessus. Attention, penser à convertir car dans les données des iris les valeurs numériques sont des chaines de caractères.</font>"
   ]
  },
  {
   "cell_type": "code",
   "execution_count": null,
   "metadata": {},
   "outputs": [],
   "source": [
    "# Definition de la fonction de distance ici\n"
   ]
  },
  {
   "cell_type": "markdown",
   "metadata": {},
   "source": [
    "## <font color=\"darkblue\"> &diams; Implémentation de l'algorithme des k plus proches voisins </font>"
   ]
  },
  {
   "cell_type": "markdown",
   "metadata": {},
   "source": [
    "On veut classer les iris suivants dont on ne connait que les caractéristiques :\n",
    "\n",
    "<table>\n",
    "    <tr>\n",
    "        <th> Fleur </th>\n",
    "        <th> longueur sépale</th>\n",
    "        <th> largeur sépale</th>\n",
    "        <th> longueur pétale</th>\n",
    "        <th> largeur pétale</th>\n",
    "    </tr>\n",
    "    <tr>\n",
    "        <td> Iris1 </td>\n",
    "        <td> 4.8 </td>\n",
    "        <td> 3.7 </td>\n",
    "        <td> 1.9 </td>\n",
    "        <td> 0.5 </td>\n",
    "    </tr>\n",
    "    <tr>\n",
    "        <td> Iris2 </td>\n",
    "        <td> 6.0 </td>\n",
    "        <td> 2.2 </td>\n",
    "        <td> 5.4 </td>\n",
    "        <td> 1.6 </td>\n",
    "    </tr>\n",
    "    <tr>\n",
    "        <td> Iris3 </td>\n",
    "        <td> 5.5 </td>\n",
    "        <td> 2.7 </td>\n",
    "        <td> 4.0 </td>\n",
    "        <td> 1.2 </td>\n",
    "    </tr>\n",
    "</table>"
   ]
  },
  {
   "cell_type": "markdown",
   "metadata": {},
   "source": [
    "## <font color=green> &#9998; Exercices </font>\n",
    "\n",
    "4. <font color=\"green\">Définir les variables python `iris1`, `iris2` et `iris3` permettant de représenter ces trois nouveaux iris comme ceux lus à partir du fichier de données.</font>"
   ]
  },
  {
   "cell_type": "code",
   "execution_count": null,
   "metadata": {},
   "outputs": [],
   "source": [
    "# Votre réponse ici\n"
   ]
  },
  {
   "cell_type": "markdown",
   "metadata": {},
   "source": [
    "5. <font color=\"green\">Ecrire une fonction `tri_distance` qui prend en argument une liste d'iris <code>iris</code> ainsi qu'un iris à classer <code>nouvel_iris</code> et renvoie la liste  rangée par distance croissante par rapport à <code>nouvel_iris</code>. Pour cela, on pourra utiliser la fonction <code>sorted</code> de Python qui prend en argument une liste ainsi qu'une clé de tri (sous la forme d'une fonction). Notre clé de tri sera donc ici la distance avec <code>nouvel_iris</code>. </font>"
   ]
  },
  {
   "cell_type": "code",
   "execution_count": null,
   "metadata": {},
   "outputs": [],
   "source": [
    "# Votre réponse ici\n"
   ]
  },
  {
   "cell_type": "markdown",
   "metadata": {},
   "source": [
    "6. <font color=\"green\">Ecrire une fonction <code>knn</code> qui prend en argument une liste d'iris ainsi qu'un entier <code>k</code> et un iris à classer <code>nouvel_iris</code> et renvoie la classe majoritaire des <code>k</code> plus proches voisins de cet iris. On pourra représenter le nombre d'éléments de chaque classe par un dictionnaire (la clé est l'espèce, la valeur le nombre de fois où cette espèce apparait parmi les $k$ plus proches voisins)</font>"
   ]
  },
  {
   "cell_type": "code",
   "execution_count": null,
   "metadata": {},
   "outputs": [],
   "source": [
    "# Votre programme ici (ou à écrire dans VS-Code)\n"
   ]
  },
  {
   "cell_type": "markdown",
   "metadata": {},
   "source": [
    "7. <font color=\"green\">Tester votre fonction sur chacun des trois iris de la question 4.</font>"
   ]
  },
  {
   "cell_type": "code",
   "execution_count": null,
   "metadata": {},
   "outputs": [],
   "source": [
    "# Vos résultats ici\n"
   ]
  },
  {
   "cell_type": "markdown",
   "metadata": {},
   "source": [
    "## <font color=\"darkblue\"> &diams; Construction de la matrice de confusion </font>\n"
   ]
  },
  {
   "cell_type": "markdown",
   "metadata": {},
   "source": [
    "Le but de cette partie est de construire la matrice de confusion pour $k=5$ pour des données *déjà classées* disponibles dans le fichier `iris30.csv`. Ce fichier est déjà intégré dans ce notebook (utilisation depuis capytale) ou sinon téléchargeable [ici](https://fabricenativel.github.io/cpge-info/itc/Notebook/iris30.csv). \n",
    "Un jeu de données est souvent réparties de la sorte entre un jeu permettant l'apprentissage supervisé (le fichier (`iris120.csv` dans cet exemple) et un jeu permettant de tester l'algorithme (`iris30.csv` dans notre exemple)"
   ]
  },
  {
   "cell_type": "markdown",
   "metadata": {},
   "source": [
    "8. <font color=\"green\">Créer une liste <code>iris_test</code> content les 30 iris déjà classés (on pourra reprendre ce qui a été fait pour créer la liste des 120 iris)</font>"
   ]
  },
  {
   "cell_type": "code",
   "execution_count": null,
   "metadata": {},
   "outputs": [],
   "source": [
    "# Votre réponse ici\n"
   ]
  },
  {
   "cell_type": "markdown",
   "metadata": {},
   "source": [
    "On décide de représentrer la matrice de confusion *par un dictionnaire* dont les clés sont les couples de classe `(C1,C2)` (par exemple `('setosa','virginica')`) et les valeurs le nombre d'iris de la classe `C1` classé comme appartenant à la classe `C2`."
   ]
  },
  {
   "cell_type": "markdown",
   "metadata": {},
   "source": [
    "9. <font color=\"green\">Créer ce dictionnaire en initialisant toutes les valeurs à 0</font>"
   ]
  },
  {
   "cell_type": "code",
   "execution_count": null,
   "metadata": {},
   "outputs": [],
   "source": [
    "# Votre réponse ici\n"
   ]
  },
  {
   "cell_type": "markdown",
   "metadata": {},
   "source": [
    "10. <font color=\"green\">Parcourir la liste <code>iris_test</code> et classer chaque iris rencontré avec la fonction <code>knn</code> écrite à la partie précédente. Modifier en conséquence le dictionnaire représentant la matrice de confusion.</font>"
   ]
  },
  {
   "cell_type": "code",
   "execution_count": null,
   "metadata": {},
   "outputs": [],
   "source": [
    "# Votre réponse ici\n"
   ]
  },
  {
   "cell_type": "markdown",
   "metadata": {},
   "source": [
    "11. <font color=\"green\">Afficher la matrice de confusion et déterminer le pourcentage d'erreur commis pour l'algorithme des $k$ plus proches voisins dans ce cas.</font>"
   ]
  },
  {
   "cell_type": "code",
   "execution_count": null,
   "metadata": {},
   "outputs": [],
   "source": [
    "# Votre réponse ici\n"
   ]
  },
  {
   "cell_type": "markdown",
   "metadata": {},
   "source": [
    "## <font color=\"darkblue\"> &diams; Pour aller plus loin </font>\n"
   ]
  },
  {
   "cell_type": "markdown",
   "metadata": {},
   "source": [
    "On peut tester l'algorithme en modifiant les valeurs de $k$ ou encore en changeant de distance et tester l'impact de ces modifications sur l'efficatité de l'algorithme d des $k$ plus proches voisins\n",
    "\n",
    "[La page wikipedia](https://fr.wikipedia.org/wiki/M%C3%A9thode_des_k_plus_proches_voisins) sur la méthode des k plus proches voisins. "
   ]
  }
 ],
 "metadata": {
  "kernelspec": {
   "display_name": "Python 3",
   "language": "python",
   "name": "python3"
  },
  "language_info": {
   "codemirror_mode": {
    "name": "ipython",
    "version": 3
   },
   "file_extension": ".py",
   "mimetype": "text/x-python",
   "name": "python",
   "nbconvert_exporter": "python",
   "pygments_lexer": "ipython3",
   "version": "3.10.12"
  }
 },
 "nbformat": 4,
 "nbformat_minor": 2
}
