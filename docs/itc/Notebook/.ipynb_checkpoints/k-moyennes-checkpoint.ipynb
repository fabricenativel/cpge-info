{
 "cells": [
  {
   "cell_type": "markdown",
   "metadata": {},
   "source": [
    "#  <font color=\"darkred\"> &#10070; Algorithme des k-moyennes</font>\n"
   ]
  },
  {
   "cell_type": "markdown",
   "metadata": {},
   "source": [
    "Le but du notebook est de mettre en oeuvre en Python l'algorithme des k plus proches voisins afin de classer des vins suivant leur cépage.\n"
   ]
  },
  {
   "cell_type": "markdown",
   "metadata": {},
   "source": [
    "## <font color=\"darkblue\"> &diams; Le jeu de données</font>"
   ]
  },
  {
   "cell_type": "markdown",
   "metadata": {},
   "source": [
    "On utilise dans ce notebook un jeu de données disponible sur le site de l'[UCI](https://archive.ics.uci.edu/dataset/109/wine). Ce jeu de données contient des données sur 178 variétés de vin tous produits en Italie mais issus de **trois** cépages différents. \n",
    "Sur chaque ligne du fichier de données, on trouvera :\n",
    "* en première position le cépage d'où est issu le vin sous la forme d'un entier (de 1 à 3). On pourra donc tester la classification fourni par l'algorithme des k-moyennes.\n",
    "* puis 13 autres valeurs correspondants à des valeurs d'analyse chimique du vin. La signification précise de ces données n'est pas utile pour la mise en oeuvre de l'algorithme mais on peut en consulter le [détail](https://archive.ics.uci.edu/dataset/109/wine)\n",
    "\n",
    "Si vous utiliser ce notebook via Capytale, le jeu de données est déjà intégré. Dans le cas contraire vous devez le [télécharger](https://fabricenativel.github.io/cpge-info/itc/Notebook/wine.csv) et le sauvegarder *dans le même répertoire* que ce Notebook afin d'y avoir accès."
   ]
  },
  {
   "cell_type": "markdown",
   "metadata": {},
   "source": [
    "## <font color=\"darkblue\"> &diams; Lecture des données</font>"
   ]
  },
  {
   "cell_type": "markdown",
   "metadata": {},
   "source": [
    "## <font color=green> &#9998; Exercices </font>\n",
    "\n",
    "1. <font color=\"green\"> Ecrire un programme Python qui lit le fichier <code>wine.csv</code> et crée une liste `donnees_vins` contenant pour chaque vin le cépage (à l'indice 0) puis les caractéristiques chimiques.</font>"
   ]
  },
  {
   "cell_type": "markdown",
   "metadata": {},
   "source": [
    "On rappelle qu'il faut suivre les étapes suivantes :\n",
    "* ouvrir le fichier en donnant son nom (`wine.csv`) cette étape fournit un *descripteur de fichier* sur lequel s'appliqueront les fonctions suivantes\n",
    "* lire le contenu du fichier et utiliser `split` afin d'obtenir sur chaque ligne les données d'un iris\n",
    "* fermer le fichier"
   ]
  },
  {
   "cell_type": "code",
   "execution_count": null,
   "metadata": {},
   "outputs": [],
   "source": [
    "# Votre programme ici\n"
   ]
  },
  {
   "cell_type": "markdown",
   "metadata": {},
   "source": [
    "A la fin de cette étape  `donnees_vins[0]` devrait contenir: \n",
    "\n",
    "`'1,14.23,1.71,2.43,15.6,127,2.8,3.06,.28,2.29,5.64,1.04,3.92,1065'`. "
   ]
  },
  {
   "cell_type": "code",
   "execution_count": 1,
   "metadata": {},
   "outputs": [],
   "source": [
    "# Tester le contenu de donnees_vin[0] pour vérifier que la lecture s'est bien déroulée\n"
   ]
  },
  {
   "cell_type": "markdown",
   "metadata": {},
   "source": [
    "Comme vous pouvez le constater on doit donc effectuer de nouveau un `split` cette fois avec le caractère `,` de façon à récupérer chacun des champs de données (on rappelle que la *première donnée* est le cépage).\n",
    "\n",
    "Remarquons aussi que *toutes les données* sont numériques, on peut donc directement les convertir en `float` au lieu de les conserver sous forme de chaine de caractère."
   ]
  },
  {
   "cell_type": "markdown",
   "metadata": {},
   "source": [
    "## <font color=green> &#9998; Exercices </font>\n",
    "\n",
    "2. <font color=\"green\"> Ecrire un programme Python qui crée la liste <code>vins</code> à partir de <code>donnees_vin</code> en effectuant un `split` sur chaque élément de cette liste et en convertissant chaque élément en flottant.</font>"
   ]
  },
  {
   "cell_type": "code",
   "execution_count": null,
   "metadata": {},
   "outputs": [],
   "source": [
    "# Votre programme ici\n"
   ]
  },
  {
   "cell_type": "markdown",
   "metadata": {},
   "source": [
    "A la fin de cette étape, `vins[0]` devrait contenir la liste `[1.0,14.23,1.71,2.43,15.6,127,2.8,3.06,.28,2.29,5.64,1.04,3.92,1065.0]`. (Remarquer l'absence des guillemets autour des valeurs  puisqu'on a converti les chaines de caractères en flottants."
   ]
  },
  {
   "cell_type": "markdown",
   "metadata": {},
   "source": [
    "## <font color=\"darkblue\"> &diams; Distance entre deux vins</font>"
   ]
  },
  {
   "cell_type": "markdown",
   "metadata": {},
   "source": [
    "On prendra comme distance entre deux vins le **carré de la distance euclidienne** dans $\\mathbb{R}^{13}$. "
   ]
  },
  {
   "cell_type": "markdown",
   "metadata": {},
   "source": [
    "## <font color=green> &#9998; Exercices </font>\n",
    "\n",
    "3. <font color=\"green\"> Ecrire une fonction <code>distance</code> qui prend en argument deux listes représentant des vins et renvoie la distance entre ces deux vins. <br>\n",
    "    <strong>Attention</strong>, on ne doit pas tenir compte de la première coordonnées (c'est le cépage) et utiliser uniquement les 13 autres. Par conséquent cette fonction prend en argument deux listes de 14 éléments mais renvoie le carré de la distance euclidienne sur les coordonnées d'indice 1 à 13.</font>"
   ]
  },
  {
   "cell_type": "code",
   "execution_count": null,
   "metadata": {},
   "outputs": [],
   "source": [
    "# Votre fonction distance ici\n"
   ]
  },
  {
   "cell_type": "markdown",
   "metadata": {},
   "source": [
    "Tester votre fonction `distance` et vérifier que la distance entre `vins[28]` et `vins[42]` vaut bien environ $32456.91$."
   ]
  },
  {
   "cell_type": "code",
   "execution_count": null,
   "metadata": {},
   "outputs": [],
   "source": [
    "# Votre test ici\n"
   ]
  },
  {
   "cell_type": "markdown",
   "metadata": {},
   "source": [
    "## <font color=\"darkblue\"> &diams; Initialisation : choix aléatoire des centres </font>"
   ]
  },
  {
   "cell_type": "markdown",
   "metadata": {},
   "source": [
    "Les vins étant issus de trois cépages différents, on choisit logiquement **3** comme valeur de $k$ afin de classer les vins dans 3 clusters différents.\n",
    "\n",
    "La première étape de l'algorithme est alors de choisir au hasard trois valeurs dans le jeu de données comme centres initiaux des classes."
   ]
  },
  {
   "cell_type": "markdown",
   "metadata": {},
   "source": [
    "## <font color=green> &#9998; Exercices </font>\n",
    "\n",
    "4. <font color=\"green\"> Ecrire une fonction <code>choix_centres</code> qui prend en argument un entier <code>k</code> et une liste <code>vins</code> et renvoie une liste <code>centres</code> contenant <code>k</code> valeurs aléatoires de  la liste <code>vins</code>.</font>"
   ]
  },
  {
   "cell_type": "code",
   "execution_count": null,
   "metadata": {},
   "outputs": [],
   "source": [
    "# Votre réponse ici\n"
   ]
  },
  {
   "cell_type": "markdown",
   "metadata": {},
   "source": [
    "On doit pouvoir maintenant affecté chaque vin au cluster du centre le plus proche. On propose de numéroter les centres par leur indice dans la liste <code>centres</code>, pour affecter un vin à un centre on doit donc écrire une fonction qui renvoie pour chaque vin, un entier correspondant à l'indice du centre le plus proche. "
   ]
  },
  {
   "cell_type": "markdown",
   "metadata": {},
   "source": [
    "5. <font color=\"green\">Ecrire une fonction <code>trouve_cluster</code> qui prend en argument une liste <code>vin</code> (de longueur 14)   ainsi qu'une liste <code>centres</code> (chaque élément de <code>centres</code> est une liste de longueur 14) et renvoie l'indice de l'élément de la liste  <code>centres</code> le plus proche de <code>vin</code> au sens de la fonction distance définie à l'exercice 3."
   ]
  },
  {
   "cell_type": "code",
   "execution_count": null,
   "metadata": {},
   "outputs": [],
   "source": [
    "# Votre réponse ici\n"
   ]
  },
  {
   "cell_type": "markdown",
   "metadata": {},
   "source": [
    "6. <font color=\"green\">Ecrire une fonction <code>cree_clusters</code> qui prend en argument une liste de vins <code>vins</code>  ainsi une listes de centres <code>centres</code> et renvoie une partition (sous forme d'une liste de liste) de la liste de vins.</font>"
   ]
  },
  {
   "cell_type": "code",
   "execution_count": null,
   "metadata": {},
   "outputs": [],
   "source": [
    "# Votre programme ici (ou à écrire dans VS-Code)\n"
   ]
  },
  {
   "cell_type": "markdown",
   "metadata": {},
   "source": [
    "7. <font color=\"green\">Pour poursuivre l'algorithme, il faut maintenant déterminer le point moyen de chaque cluster, de façon à itérer en les choisissant comme nouveaux centres. Ecrire une fonction <code>get_centre</code> qui prend en argument un cluster et renvoie le point moyen <strong>sans tenir compte de la première coordonnées</strong>.</font>"
   ]
  },
  {
   "cell_type": "code",
   "execution_count": null,
   "metadata": {},
   "outputs": [],
   "source": [
    "# Votre programme ici\n"
   ]
  },
  {
   "cell_type": "markdown",
   "metadata": {},
   "source": [
    "8. <font color=\"green\">Ecrire maintenant la boucle principale de l'algorithme afin de répéter les itérations. On se limite à 10 itérations dans l'algorithme.</font>"
   ]
  },
  {
   "cell_type": "code",
   "execution_count": null,
   "metadata": {},
   "outputs": [],
   "source": [
    "# Votre programme ici\n"
   ]
  },
  {
   "cell_type": "markdown",
   "metadata": {},
   "source": [
    "## <font color=\"darkblue\"> &diams; Pour aller plus loin </font>\n"
   ]
  },
  {
   "cell_type": "markdown",
   "metadata": {},
   "source": [
    "Pour aller plus loin, on pourra :\n",
    "* Introduire un critère de stabilisation de l'algorithme (par exemple l'écart entre les nouveaux centres et les anciens ou alors le nombre d'éléments qui change de classe) et itérer jusqu'à atteindre ce critère.\n",
    "* Construire la matrice de confusion (attention, dans le cas de cet algorithme le numéro de la classe attribuée à un vin ne correspond pas forcément à son numéro de cépage).\n",
    "* Ecrire cet algorithme de classification pour un autre jeu de données."
   ]
  }
 ],
 "metadata": {
  "kernelspec": {
   "display_name": "Python 3",
   "language": "python",
   "name": "python3"
  },
  "language_info": {
   "codemirror_mode": {
    "name": "ipython",
    "version": 3
   },
   "file_extension": ".py",
   "mimetype": "text/x-python",
   "name": "python",
   "nbconvert_exporter": "python",
   "pygments_lexer": "ipython3",
   "version": "3.10.12"
  }
 },
 "nbformat": 4,
 "nbformat_minor": 2
}
