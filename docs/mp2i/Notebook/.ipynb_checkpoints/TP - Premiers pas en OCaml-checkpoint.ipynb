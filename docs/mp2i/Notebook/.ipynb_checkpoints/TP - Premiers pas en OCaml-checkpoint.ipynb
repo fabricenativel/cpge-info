{
 "cells": [
  {
   "cell_type": "markdown",
   "id": "40f86de8",
   "metadata": {},
   "source": [
    "# <font color=darkred> &#10070; TP : Premiers pas en OCaml </font>\n",
    "\n",
    "Comme vu en cours, bien qu'OCaml soit compilé, on dispose aussi d'un environnement interactif appelé `utop` dans lequel on peut exécuter du OCaml (un peu à la façon d'une console python). On utilise ici un jupyter notebook dans lequel vous pourrez directement exécuter du OCaml, ceux qui préfèrent peuvent ouvrir `utop` à côté. Bien que cela ne soit pas obligatoire, on prendra l'habitude de terminer une expression avec `;;` comme dans `utop`\n",
    "\n",
    "## <font color=darkblue> &diams; \"Variables\" globales</font>\n",
    "\n",
    "On rappelle qu'on crée une variable à l'aide de `let` puis on donne son nom suivi du signe `=` et de sa valeur.\n",
    "\n",
    "Les types de bases comme vus en cours sont :\n",
    "* les entiers (avec les opérations usuels `+, -, *, /, mod`)\n",
    "* les flottants (<font color=\"red\">&#9888;</font> les opérations sont `+., -., *., /., **`)\n",
    "* les caractères qui se notent entre apostrophes `'`\n",
    "* les booléens\n",
    "* les chaines de caractères qui se notent entre guillements `\"`\n",
    "\n",
    "Les variables crées dans ce notebook seront globales c'est à dire accessibles depuis l'ensemble du document."
   ]
  },
  {
   "cell_type": "code",
   "execution_count": 3,
   "id": "6f674e1a",
   "metadata": {},
   "outputs": [
    {
     "data": {
      "text/plain": [
       "val univers : int = 42\n"
      ]
     },
     "execution_count": 3,
     "metadata": {},
     "output_type": "execute_result"
    }
   ],
   "source": [
    "let univers = 42;;"
   ]
  },
  {
   "cell_type": "code",
   "execution_count": 4,
   "id": "4b22f74b",
   "metadata": {},
   "outputs": [
    {
     "data": {
      "text/plain": [
       "val pi : float = 3.14159\n"
      ]
     },
     "execution_count": 4,
     "metadata": {},
     "output_type": "execute_result"
    }
   ],
   "source": [
    "let pi = 3.14159;;"
   ]
  },
  {
   "cell_type": "markdown",
   "id": "3a3158eb",
   "metadata": {},
   "source": [
    "On rappelle qu'en programmation fonctionnelle, une variable **ne change pas de valeur**. Aussi, il est vain d'essayer de changer la valeur de `pi`, tout ce qu'on peut espérer faire c'est définir une nouvelle variable qui prendra le pas sur la précédente"
   ]
  },
  {
   "cell_type": "code",
   "execution_count": 5,
   "id": "e4111232",
   "metadata": {},
   "outputs": [
    {
     "data": {
      "text/plain": [
       "- : bool = false\n"
      ]
     },
     "execution_count": 5,
     "metadata": {},
     "output_type": "execute_result"
    }
   ],
   "source": [
    "(* NO WAY *)\n",
    "pi = 3.14;;"
   ]
  },
  {
   "cell_type": "markdown",
   "id": "a2fb155d",
   "metadata": {},
   "source": [
    "L'évaluation de l'expression précédente est le résultat du test `pi = 3.14` !"
   ]
  },
  {
   "cell_type": "code",
   "execution_count": 7,
   "id": "d432f740",
   "metadata": {},
   "outputs": [
    {
     "data": {
      "text/plain": [
       "val pi : float = 3.141592\n"
      ]
     },
     "execution_count": 7,
     "metadata": {},
     "output_type": "execute_result"
    }
   ],
   "source": [
    "(* Par contre on peut redéfinir la variable *)\n",
    "let pi = 3.141592;;"
   ]
  },
  {
   "cell_type": "markdown",
   "id": "13c9a404",
   "metadata": {},
   "source": [
    "On peut bien sur utiliser nos variables pour faire des calculs, ou pour en redéfinir d'autres :"
   ]
  },
  {
   "cell_type": "code",
   "execution_count": 13,
   "id": "67bafe3a",
   "metadata": {},
   "outputs": [
    {
     "data": {
      "text/plain": [
       "- : float = 78.5398\n"
      ]
     },
     "execution_count": 13,
     "metadata": {},
     "output_type": "execute_result"
    }
   ],
   "source": [
    "(* aire d'un cercle de rayon 5*)\n",
    "pi*.5.*.5.;;\n",
    "(* notez bien l'utilisation de *. et du flottant 5. *)"
   ]
  },
  {
   "cell_type": "code",
   "execution_count": 14,
   "id": "594461b7",
   "metadata": {
    "scrolled": true
   },
   "outputs": [
    {
     "data": {
      "text/plain": [
       "val multivers : int = 126\n"
      ]
     },
     "execution_count": 14,
     "metadata": {},
     "output_type": "execute_result"
    }
   ],
   "source": [
    "let multivers = univers * 3;;"
   ]
  },
  {
   "cell_type": "markdown",
   "id": "1f04d77a",
   "metadata": {},
   "source": [
    "## <font color=darkblue> &diams; \"Variables\" locales</font>\n",
    "\n",
    "Une variable locale à une expression se déclare avec `let <variable>=valeur in`"
   ]
  },
  {
   "cell_type": "code",
   "execution_count": 16,
   "id": "bf9a552f",
   "metadata": {},
   "outputs": [
    {
     "data": {
      "text/plain": [
       "- : float = 78.5398\n"
      ]
     },
     "execution_count": 16,
     "metadata": {},
     "output_type": "execute_result"
    }
   ],
   "source": [
    "let rayon = 5.0 in\n",
    "    pi *. rayon *. rayon;;\n"
   ]
  },
  {
   "cell_type": "markdown",
   "id": "d4ec8cee",
   "metadata": {},
   "source": [
    "La variable `rayon` n'existe plus, elle est \"*unbound*\""
   ]
  },
  {
   "cell_type": "code",
   "execution_count": 18,
   "id": "b030c48d",
   "metadata": {
    "scrolled": false
   },
   "outputs": [
    {
     "ename": "error",
     "evalue": "compile_error",
     "output_type": "error",
     "traceback": [
      "File \"[18]\", line 1, characters 0-5:\n1 | rayon;;\n    ^^^^^\nError: Unbound value rayon\n"
     ]
    }
   ],
   "source": [
    "rayon;;"
   ]
  },
  {
   "cell_type": "markdown",
   "id": "dc2917e1",
   "metadata": {},
   "source": [
    "**Remarque :** : les règles de portées sont les mêmes qu'en C, en particulier une variable locale peut masquer une variable gloable."
   ]
  },
  {
   "cell_type": "markdown",
   "id": "bfd540ca",
   "metadata": {},
   "source": [
    "<div class=\"alert alert-block alert-info\">\n",
    "<b>&#9889; A retenir : </b><ul>\n",
    "<li> Les variable en OCaml, ne changent pas de valeur, on dit qu'elles sont non *mutables*.\n",
    "<li> Une variable globale se déclare avec <code>let &lt;variable&gt; = &lt;valeur&gt; </code>\n",
    "<li> Une variable locale se déclare avec <code>let &lt;variable&gt; = &lt;valeur&gt; in </code>\n",
    "</ul>\n",
    "</div>"
   ]
  },
  {
   "cell_type": "markdown",
   "id": "7ae7e6ea",
   "metadata": {},
   "source": [
    "## <font color=green> &#9998; Exercices </font>\n",
    "1. <font color=\"green\"> Le code ci-dessus fonctionne-t-il si on teste la condition `reponse==2` ? Pourquoi ?</font>\n",
    "2. <font color=\"green\"> On dispose d'une variable `jour` et on doit écrire \"bon week-end !\" si `jour` est égal à samedi. Les 3 codes ci-dessous contiennent une erreur, **exécuter** les pour le constater. Puis, **corriger** ces erreurs. N'oubliez pas que les messages d'erreur fournis par Python, même s'ils sont en anglais, sont une aide précieuse !</font>"
   ]
  },
  {
   "cell_type": "markdown",
   "id": "5df6cb0b",
   "metadata": {},
   "source": [
    "## <font color=darkblue> &diams; Premières fonctions</font>\n"
   ]
  },
  {
   "cell_type": "code",
   "execution_count": null,
   "id": "095e5d7c",
   "metadata": {},
   "outputs": [],
   "source": []
  },
  {
   "cell_type": "code",
   "execution_count": null,
   "id": "c276b408",
   "metadata": {},
   "outputs": [],
   "source": []
  },
  {
   "cell_type": "markdown",
   "id": "6322ab4d",
   "metadata": {},
   "source": []
  },
  {
   "cell_type": "code",
   "execution_count": null,
   "id": "8f340df7",
   "metadata": {},
   "outputs": [],
   "source": []
  }
 ],
 "metadata": {
  "kernelspec": {
   "display_name": "OCaml oklm",
   "language": "OCaml",
   "name": "ocaml-jupyter-oklm"
  },
  "language_info": {
   "codemirror_mode": "text/x-ocaml",
   "file_extension": ".ml",
   "mimetype": "text/x-ocaml",
   "name": "OCaml",
   "nbconverter_exporter": null,
   "pygments_lexer": "OCaml",
   "version": "4.14.0"
  }
 },
 "nbformat": 4,
 "nbformat_minor": 5
}
