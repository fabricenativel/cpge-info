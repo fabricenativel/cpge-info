{
 "cells": [
  {
   "cell_type": "markdown",
   "id": "bcc6e9c0",
   "metadata": {},
   "source": [
    "# <font color=darkred> &#10070; TP : Premiers pas en OCaml </font>\n",
    "\n",
    "Comme vu en cours, bien qu'OCaml soit compilé, on dispose aussi d'un environnement interactif appelé `utop` dans lequel on peut exécuter du OCaml (un peu à la façon d'une console python). On utilise ici un jupyter notebook dans lequel vous pourrez directement exécuter du OCaml, ceux qui préfèrent peuvent ouvrir `utop` à côté. Bien que cela ne soit pas obligatoire, on prendra l'habitude de terminer une expression avec `;;` comme dans `utop`\n",
    "\n",
    "## <font color=darkblue> &diams; \"Variables\" globales</font>\n",
    "\n",
    "On rappelle qu'on crée une variable à l'aide de `let` puis on donne son nom suivi du signe `=` et de sa valeur.\n",
    "\n",
    "Les types de bases comme vus en cours sont :\n",
    "* les entiers (avec les opérations usuels `+, -, *, /, mod`)\n",
    "* les flottants (<font color=\"red\">&#9888;</font> les opérations sont `+., -., *., /., **`)\n",
    "* les caractères qui se notent entre apostrophes `'`\n",
    "* les booléens\n",
    "* les chaines de caractères qui se notent entre guillements `\"`\n",
    "\n",
    "Et que diverses fonctions de conversions existent entre ces différents types.\n",
    "\n",
    "Quelques exemples : "
   ]
  },
  {
   "cell_type": "code",
   "execution_count": 12,
   "id": "74106025",
   "metadata": {},
   "outputs": [
    {
     "data": {
      "text/plain": [
       "val univers : int = 42\n"
      ]
     },
     "execution_count": 12,
     "metadata": {},
     "output_type": "execute_result"
    }
   ],
   "source": [
    "(* un entier univers valant 42 *)\n",
    "let univers = 42;;"
   ]
  },
  {
   "cell_type": "code",
   "execution_count": 13,
   "id": "84b7e1cb",
   "metadata": {},
   "outputs": [
    {
     "data": {
      "text/plain": [
       "val univers_flottant : float = 42.\n"
      ]
     },
     "execution_count": 13,
     "metadata": {},
     "output_type": "execute_result"
    }
   ],
   "source": [
    "(* on le convertit en flottant *)\n",
    "let univers_flottant = float_of_int univers;;"
   ]
  },
  {
   "cell_type": "code",
   "execution_count": 4,
   "id": "efbe2a0c",
   "metadata": {},
   "outputs": [
    {
     "data": {
      "text/plain": [
       "val pi : float = 3.14159\n"
      ]
     },
     "execution_count": 4,
     "metadata": {},
     "output_type": "execute_result"
    }
   ],
   "source": [
    "let pi = 3.14159;;"
   ]
  },
  {
   "cell_type": "markdown",
   "id": "5450430f",
   "metadata": {},
   "source": [
    "On rappelle qu'en programmation fonctionnelle, une variable **ne change pas de valeur**. Aussi, il est vain d'essayer de changer la valeur de `pi`, tout ce qu'on peut espérer faire c'est l'associer à une autre valeur. Pour cette raison, on évitera maintenant de parler de variable, on utilisera *identifiant* lié à une *valeur*. "
   ]
  },
  {
   "cell_type": "code",
   "execution_count": 5,
   "id": "737d270b",
   "metadata": {},
   "outputs": [
    {
     "data": {
      "text/plain": [
       "- : bool = false\n"
      ]
     },
     "execution_count": 5,
     "metadata": {},
     "output_type": "execute_result"
    }
   ],
   "source": [
    "(* NO WAY *)\n",
    "pi = 3.14;;"
   ]
  },
  {
   "cell_type": "markdown",
   "id": "cf1bba2d",
   "metadata": {},
   "source": [
    "L'évaluation de l'expression précédente est le résultat du test `pi = 3.14` !"
   ]
  },
  {
   "cell_type": "code",
   "execution_count": 7,
   "id": "0d5d27ac",
   "metadata": {},
   "outputs": [
    {
     "data": {
      "text/plain": [
       "val pi : float = 3.141592\n"
      ]
     },
     "execution_count": 7,
     "metadata": {},
     "output_type": "execute_result"
    }
   ],
   "source": [
    "(* Par contre on peut lier une nouvelle valeur à l'identifiant *)\n",
    "let pi = 3.141592;;"
   ]
  },
  {
   "cell_type": "markdown",
   "id": "e27411c1",
   "metadata": {},
   "source": [
    "On peut bien sur utiliser nos variables pour faire des calculs, ou pour en redéfinir d'autres :"
   ]
  },
  {
   "cell_type": "code",
   "execution_count": 13,
   "id": "dee9d506",
   "metadata": {},
   "outputs": [
    {
     "data": {
      "text/plain": [
       "- : float = 78.5398\n"
      ]
     },
     "execution_count": 13,
     "metadata": {},
     "output_type": "execute_result"
    }
   ],
   "source": [
    "(* aire d'un cercle de rayon 5*)\n",
    "pi*.5.*.5.;;\n",
    "(* notez bien l'utilisation de *. et du flottant 5. *)"
   ]
  },
  {
   "cell_type": "code",
   "execution_count": 14,
   "id": "8900e1cc",
   "metadata": {
    "scrolled": true
   },
   "outputs": [
    {
     "data": {
      "text/plain": [
       "val multivers : int = 126\n"
      ]
     },
     "execution_count": 14,
     "metadata": {},
     "output_type": "execute_result"
    }
   ],
   "source": [
    "let multivers = univers * 3;;"
   ]
  },
  {
   "cell_type": "markdown",
   "id": "1392234b",
   "metadata": {},
   "source": [
    "La définition simultanée de plusieurs variables s'effectue avec `and` :"
   ]
  },
  {
   "cell_type": "code",
   "execution_count": 26,
   "id": "16b2e73b",
   "metadata": {},
   "outputs": [
    {
     "data": {
      "text/plain": [
       "val jour : int = 14\n",
       "val mois : string = \"Juillet\"\n",
       "val annee : int = 1789\n"
      ]
     },
     "execution_count": 26,
     "metadata": {},
     "output_type": "execute_result"
    }
   ],
   "source": [
    "let jour = 14 and mois = \"Juillet\" and annee = 1789;;"
   ]
  },
  {
   "cell_type": "markdown",
   "id": "d3e2f0ce",
   "metadata": {},
   "source": [
    "## <font color=darkblue> &diams; \"Variables\" locales</font>\n",
    "\n",
    "Une variable locale à une expression se déclare avec `let <variable>=valeur in`"
   ]
  },
  {
   "cell_type": "code",
   "execution_count": 16,
   "id": "a441c7d3",
   "metadata": {},
   "outputs": [
    {
     "data": {
      "text/plain": [
       "- : float = 78.5398\n"
      ]
     },
     "execution_count": 16,
     "metadata": {},
     "output_type": "execute_result"
    }
   ],
   "source": [
    "let rayon = 5.0 in\n",
    "    pi *. rayon *. rayon;;\n"
   ]
  },
  {
   "cell_type": "markdown",
   "id": "844ec721",
   "metadata": {},
   "source": [
    "En dehors de cette expression, la variable `rayon` n'existe plus, elle est \"*unbound*\" (n'est plus liée à une valeur)"
   ]
  },
  {
   "cell_type": "code",
   "execution_count": 18,
   "id": "84dc0333",
   "metadata": {
    "scrolled": false
   },
   "outputs": [
    {
     "ename": "error",
     "evalue": "compile_error",
     "output_type": "error",
     "traceback": [
      "File \"[18]\", line 1, characters 0-5:\n1 | rayon;;\n    ^^^^^\nError: Unbound value rayon\n"
     ]
    }
   ],
   "source": [
    "rayon;;"
   ]
  },
  {
   "cell_type": "markdown",
   "id": "721cbee9",
   "metadata": {},
   "source": [
    "**Remarque :** : Un identifiant de l'environnement local peut masquer un identifiant de l'environnement global."
   ]
  },
  {
   "cell_type": "markdown",
   "id": "3b551864",
   "metadata": {},
   "source": [
    "<div class=\"alert alert-block alert-info\">\n",
    "<b>&#9889; A retenir : </b><ul>\n",
    "<li> Les variable en OCaml, ne changent pas de valeur, on dit qu'elles sont non *mutables*. Ce sont simplements des identifians liés à des valeurs.\n",
    "<li> Un identifiant global est lié à une valeur avec <code>let &lt;id&gt; = &lt;valeur&gt; </code>\n",
    "<li> Une identifiant local est lié à une valeur avec <code>let &lt;id&gt; = &lt;valeur&gt; in </code>\n",
    "</ul>\n",
    "</div>"
   ]
  },
  {
   "cell_type": "markdown",
   "id": "2fe797c7",
   "metadata": {},
   "source": [
    "## <font color=green> &#9998; Exercices </font>\n",
    "1. <font color=\"green\"> A l'aide d'OCaml, calculer :\n",
    "    <ul>\n",
    "        <li> $2023 \\times 42$\n",
    "        <li> $217,5 \\div 4$\n",
    "        <li> $6,5^3$\n",
    "        <li> Le reste dans la division euclidienne de 2023 par 42\n",
    "    </ul>"
   ]
  },
  {
   "cell_type": "code",
   "execution_count": 2,
   "id": "bf3c3ad3",
   "metadata": {},
   "outputs": [],
   "source": [
    "(* Votre reponse ici pour l'exercice 1 *)\n"
   ]
  },
  {
   "cell_type": "markdown",
   "id": "bc546c84",
   "metadata": {},
   "source": [
    "2. <font color=\"green\"> Définir dans l'environnement globale l'identifiant `e` lié à la valeur `2.71828`. Puis calculer $\\dfrac{e - \\frac{1}{e}}{2}$</font>"
   ]
  },
  {
   "cell_type": "code",
   "execution_count": null,
   "id": "f2e5dde5",
   "metadata": {},
   "outputs": [],
   "source": [
    "(* Votre reponse ici pour l'exercice 2 *)\n"
   ]
  },
  {
   "cell_type": "markdown",
   "id": "f09aa580",
   "metadata": {},
   "source": [
    "3. <font color=\"green\"> Définir 3 identifiants localement : <code>a=72, b=97, c=65</code> et écrire une expression booléenne permettant de vérifier qu'il s'agit d'un triplet Pythagoricien</font>"
   ]
  },
  {
   "cell_type": "code",
   "execution_count": 5,
   "id": "fbed194d",
   "metadata": {},
   "outputs": [],
   "source": [
    "(* Votre reponse ici pour l'exercice 3 *)\n"
   ]
  },
  {
   "cell_type": "markdown",
   "id": "d89b88f4",
   "metadata": {},
   "source": [
    "4. <font color=\"green\"> Définir 2 chaines de caractères localement : <code>s1=\"bon\"</code> et <code>s2=\"jour\"</code> et les utiliser pour écrire \"bonjour\"</font>"
   ]
  },
  {
   "cell_type": "code",
   "execution_count": 6,
   "id": "4ae19ae4",
   "metadata": {},
   "outputs": [],
   "source": [
    "(* Votre reponse ici pour l'exercice 4 *)\n"
   ]
  },
  {
   "cell_type": "markdown",
   "id": "7e9f875a",
   "metadata": {},
   "source": [
    "## <font color=darkblue> &diams; Premières fonctions</font>\n"
   ]
  },
  {
   "cell_type": "markdown",
   "id": "4a0bd2d3",
   "metadata": {},
   "source": [
    "On rappelle qu'on définit une fonction avec la syntaxe :\n",
    "* `let nom_fonction arg1 arg2 ... argn = expr ;;`\n",
    "* `let rec nom_fonction arg1 arg2 ... argn = expr;;` si la fonction est récursive \n",
    "\n",
    "Le type des arguments et du résultat est automatiquement inféré.\n",
    "\n",
    "Observons l'exemple ci-dessous :"
   ]
  },
  {
   "cell_type": "code",
   "execution_count": 7,
   "id": "0239c0d8",
   "metadata": {},
   "outputs": [
    {
     "data": {
      "text/plain": [
       "val carre : int -> int = <fun>\n"
      ]
     },
     "execution_count": 7,
     "metadata": {},
     "output_type": "execute_result"
    }
   ],
   "source": [
    "(* fonction carré sur les entiers *)\n",
    "let carre n =  n * n;;"
   ]
  },
  {
   "cell_type": "markdown",
   "id": "ed3e1aea",
   "metadata": {},
   "source": [
    "Le résultat de est `int -> int = <fun>` qui indique qu'on a crée une fonction qui prend en argument un entier et renvoie un entier. \n",
    "OCaml permet aussi de définir des fonctions anonymes (qui sont alors souvent utilisé comme argument d'autres fonctions : `(fun arg1 ... argn -> expr;;)`. On aurait donc pu définir notre fonction `carre` comme une fonction anonyme à laquelle on donne ensuite le nom `carre` :"
   ]
  },
  {
   "cell_type": "code",
   "execution_count": 8,
   "id": "c9cd5898",
   "metadata": {},
   "outputs": [
    {
     "data": {
      "text/plain": [
       "val carre : int -> int = <fun>\n"
      ]
     },
     "execution_count": 8,
     "metadata": {},
     "output_type": "execute_result"
    }
   ],
   "source": [
    "let carre = (fun n -> n*n);;"
   ]
  },
  {
   "cell_type": "markdown",
   "id": "8075c80b",
   "metadata": {},
   "source": [
    "On utilisera bien plus souvent la première version ci-dessus et c'est celle qu'il faut retenir"
   ]
  },
  {
   "cell_type": "markdown",
   "id": "61ea6845",
   "metadata": {},
   "source": [
    "<div class=\"alert alert-block alert-info\">\n",
    "<b>&#9889; A retenir : </b><ul>\n",
    "<li> On définit une fonction avec <code> let nom arg1 ... argn = expr;; </code>\n",
    "    <li> Pour les fonctions récursives, on précise en plus <code>rec</code> après le <code>let</code>\n",
    "</ul>\n",
    "</div>"
   ]
  },
  {
   "cell_type": "markdown",
   "id": "6ca288bb",
   "metadata": {},
   "source": [
    "## <font color=green> &#9998; Exercices </font>\n",
    "5. <font color=\"green\"> Ecrire les fonctions suivantes :\n",
    "    <ul>\n",
    "        <li> La fonction <code>triple</code> qui renvoie le triple de l'entier passé en argument\n",
    "        <li> La fonction <code>farenheit</code> qui convertir les degrés celsuis en degré farenheit (il faut multiplier par 9/5 et ajouter 32)\n",
    "        <li> La fonction <code>pointure</code> qui calcule la pointure grâce à la taille du pied $t$ (en cm) grâce à la relation $pointure(t) = \\dfrac{3t+4}{2}$\n",
    "        <li> La fonction <code>perimetre_rectangle</code> qui renvoie le perimetre du rectangle dont la longueur et la largeur sont donnés en argument.\n",
    "        <li> La fonction <code> moyenne </code> qui renvoie la moyenne des trois entiers donnés en argument sous la forme d'un flottant.\n",
    "    </ul>"
   ]
  },
  {
   "cell_type": "code",
   "execution_count": null,
   "id": "366c30a4",
   "metadata": {},
   "outputs": [],
   "source": [
    "(* Votre reponse ici pour l'exercice 5 *)\n"
   ]
  },
  {
   "cell_type": "markdown",
   "id": "8c751ad5",
   "metadata": {},
   "source": [
    "6. <font color=\"green\"> Ecrire les fonctions suivantes :\n",
    "    <ul>\n",
    "        <li> la fonction <code>est_pair</code> qui renvoie <code>true</code> si l'entier passé en argument est pair et <code>false</code> sinon.\n",
    "        <li> la fonction <code>signe</code>qui renvoie $1$ si l'entier donné en argument est positif, $0$ s'il est nul et $-1$ si il est négatif\n",
    "        <li> la fonction <code>min_float</code> qui renvoie le minimum des deux flottants donnés en argument.\n",
    "    </ul>\n",
    "   </font>"
   ]
  },
  {
   "cell_type": "code",
   "execution_count": 3,
   "id": "758efd51",
   "metadata": {},
   "outputs": [],
   "source": [
    "(* Votre reponse ici pour l'exercice 6 *)\n"
   ]
  },
  {
   "cell_type": "markdown",
   "id": "afea35da",
   "metadata": {},
   "source": [
    "7. <font color=\"green\"> Ecrire les fonctions récursives suivantes :\n",
    "    <ul>\n",
    "        <li> la fonction <code>puissance</code> qui prend en argument un flottant <code>x</code> et un entier <code>n</code> positif ou nul et renvoie $x^n$.\n",
    "        <li> la fonction <code>factorielle</code>\n",
    "        <li> la fonction <code>somme</code> qui prend en argument un entier <code>n</code> positif et renvoie $\\displaystyle{\\sum_{k=0}^n k}$.\n",
    "        <li> la fonction <code>harmonique</code> qui prend en argument un entier <code>n</code> strictement positif et renvoie $\\displaystyle{\\sum_{k=1}^n \\dfrac{1}{k}}$.\n",
    "    </ul>\n",
    "   </font>"
   ]
  },
  {
   "cell_type": "code",
   "execution_count": null,
   "id": "2b677737",
   "metadata": {},
   "outputs": [],
   "source": [
    "(* Votre reponse ici pour l'exercice 7 *)\n"
   ]
  }
 ],
 "metadata": {
  "kernelspec": {
   "display_name": "OCaml oklm",
   "language": "OCaml",
   "name": "ocaml-jupyter-oklm"
  },
  "language_info": {
   "codemirror_mode": "text/x-ocaml",
   "file_extension": ".ml",
   "mimetype": "text/x-ocaml",
   "name": "OCaml",
   "nbconverter_exporter": null,
   "pygments_lexer": "OCaml",
   "version": "4.14.0"
  }
 },
 "nbformat": 4,
 "nbformat_minor": 5
}
